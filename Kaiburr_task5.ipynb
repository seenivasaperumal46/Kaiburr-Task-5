{
  "nbformat": 4,
  "nbformat_minor": 0,
  "metadata": {
    "colab": {
      "provenance": []
    },
    "kernelspec": {
      "name": "python3",
      "display_name": "Python 3"
    },
    "language_info": {
      "name": "python"
    }
  },
  "cells": [
    {
      "cell_type": "code",
      "execution_count": 1,
      "metadata": {
        "colab": {
          "base_uri": "https://localhost:8080/",
          "height": 581
        },
        "id": "YlUFvnWXRq_H",
        "outputId": "dbde0481-2909-47c7-f53c-930b27e4ea5a"
      },
      "outputs": [
        {
          "output_type": "display_data",
          "data": {
            "text/plain": [
              "<Figure size 640x480 with 1 Axes>"
            ],
            "image/png": "[encoded data removed]"
          },
          "metadata": {}
        },
        {
          "output_type": "stream",
          "name": "stdout",
          "text": [
            "label\n",
            "0    535\n",
            "1    186\n",
            "3     84\n",
            "2      4\n",
            "Name: count, dtype: int64\n"
          ]
        }
      ],
      "source": [
        "import pandas as pd\n",
        "import matplotlib.pyplot as plt\n",
        "import seaborn as sns\n",
        "\n",
        "# Load data\n",
        "df = pd.read_csv(\"consumer_complaints_sample.csv\")\n",
        "\n",
        "# Focus only on text complaints that are not null\n",
        "df = df[['Product', 'Consumer complaint narrative']].dropna()\n",
        "\n",
        "# Filter for only selected categories\n",
        "target_products = [\n",
        "    'Credit reporting, credit repair services, or other personal consumer reports',\n",
        "    'Debt collection', 'Consumer Loan', 'Mortgage'\n",
        "]\n",
        "df = df[df['Product'].isin(target_products)]\n",
        "\n",
        "# Map to numeric labels\n",
        "label_map = {\n",
        "    'Credit reporting, credit repair services, or other personal consumer reports': 0,\n",
        "    'Debt collection': 1,\n",
        "    'Consumer Loan': 2,\n",
        "    'Mortgage': 3\n",
        "}\n",
        "df['label'] = df['Product'].map(label_map)\n",
        "\n",
        "# Plot class distribution\n",
        "sns.countplot(x='label', data=df)\n",
        "plt.title(\"Class Distribution\")\n",
        "plt.xlabel(\"Class Label\")\n",
        "plt.ylabel(\"Count\")\n",
        "plt.show()\n",
        "\n",
        "print(df['label'].value_counts())\n"
      ]
    },
    {
      "cell_type": "code",
      "source": [
        "import re\n",
        "import nltk\n",
        "from nltk.corpus import stopwords\n",
        "nltk.download('stopwords')\n",
        "\n",
        "stop_words = set(stopwords.words('english'))\n",
        "\n",
        "def preprocess(text):\n",
        "    text = text.lower()  # lowercase\n",
        "    text = re.sub(r\"http\\S+|www\\S+|https\\S+\", '', text)  # remove URLs\n",
        "    text = re.sub(r'[^a-z\\s]', '', text)  # keep only alphabets\n",
        "    tokens = text.split()\n",
        "    tokens = [word for word in tokens if word not in stop_words]\n",
        "    return ' '.join(tokens)\n",
        "\n",
        "df['cleaned_text'] = df['Consumer complaint narrative'].apply(preprocess)\n",
        "\n",
        "# Show sample cleaned text\n",
        "df[['Consumer complaint narrative', 'cleaned_text']].head()\n"
      ],
      "metadata": {
        "colab": {
          "base_uri": "https://localhost:8080/",
          "height": 242
        },
        "id": "OioBavUlScZg",
        "outputId": "897bd7e9-b088-40cb-fd78-ce69d90e565f"
      },
      "execution_count": 2,
      "outputs": [
        {
          "output_type": "stream",
          "name": "stderr",
          "text": [
            "[nltk_data] Downloading package stopwords to /root/nltk_data...\n",
            "[nltk_data]   Unzipping corpora/stopwords.zip.\n"
          ]
        },
        {
          "output_type": "execute_result",
          "data": {
            "text/plain": [
              "                         Consumer complaint narrative  \\\n",
              "3   In accordance with the Fair Credit Reporting a...   \n",
              "5   Although I have never been late on a payment w...   \n",
              "11  I went to check my credit report on XX/XX/2017...   \n",
              "16  Community Loan Servicing, LLC. \\nXXXX XXXX XXX...   \n",
              "25  The debt is with rise credit which I paid and ...   \n",
              "\n",
              "                                         cleaned_text  \n",
              "3   accordance fair credit reporting act list acco...  \n",
              "5   although never late payment xxxx since become ...  \n",
              "11  went check credit report xxxx found couple ite...  \n",
              "16  community loan servicing llc xxxx xxxx xxxx xx...  \n",
              "25  debt rise credit paid try dispute equifax send...  "
            ],
            "text/html": [
              "\n",
              "  <div id=\"df-67476900-8acb-4602-a6be-ef75e55d4349\" class=\"colab-df-container\">\n",
              "    <div>\n",
              "<style scoped>\n",
              "    .dataframe tbody tr th:only-of-type {\n",
              "        vertical-align: middle;\n",
              "    }\n",
              "\n",
              "    .dataframe tbody tr th {\n",
              "        vertical-align: top;\n",
              "    }\n",
              "\n",
              "    .dataframe thead th {\n",
              "        text-align: right;\n",
              "    }\n",
              "</style>\n",
              "<table border=\"1\" class=\"dataframe\">\n",
              "  <thead>\n",
              "    <tr style=\"text-align: right;\">\n",
              "      <th></th>\n",
              "      <th>Consumer complaint narrative</th>\n",
              "      <th>cleaned_text</th>\n",
              "    </tr>\n",
              "  </thead>\n",
              "  <tbody>\n",
              "    <tr>\n",
              "      <th>3</th>\n",
              "      <td>In accordance with the Fair Credit Reporting a...</td>\n",
              "      <td>accordance fair credit reporting act list acco...</td>\n",
              "    </tr>\n",
              "    <tr>\n",
              "      <th>5</th>\n",
              "      <td>Although I have never been late on a payment w...</td>\n",
              "      <td>although never late payment xxxx since become ...</td>\n",
              "    </tr>\n",
              "    <tr>\n",
              "      <th>11</th>\n",
              "      <td>I went to check my credit report on XX/XX/2017...</td>\n",
              "      <td>went check credit report xxxx found couple ite...</td>\n",
              "    </tr>\n",
              "    <tr>\n",
              "      <th>16</th>\n",
              "      <td>Community Loan Servicing, LLC. \\nXXXX XXXX XXX...</td>\n",
              "      <td>community loan servicing llc xxxx xxxx xxxx xx...</td>\n",
              "    </tr>\n",
              "    <tr>\n",
              "      <th>25</th>\n",
              "      <td>The debt is with rise credit which I paid and ...</td>\n",
              "      <td>debt rise credit paid try dispute equifax send...</td>\n",
              "    </tr>\n",
              "  </tbody>\n",
              "</table>\n",
              "</div>\n",
              "    <div class=\"colab-df-buttons\">\n",
              "\n",
              "  <div class=\"colab-df-container\">\n",
              "    <button class=\"colab-df-convert\" onclick=\"convertToInteractive('df-67476900-8acb-4602-a6be-ef75e55d4349')\"\n",
              "            title=\"Convert this dataframe to an interactive table.\"\n",
              "            style=\"display:none;\">\n",
              "\n",
              "  <svg xmlns=\"http://www.w3.org/2000/svg\" height=\"24px\" viewBox=\"0 -960 960 960\">\n",
              "    <path d=\"M120-120v-720h720v720H120Zm60-500h600v-160H180v160Zm220 220h160v-160H400v160Zm0 220h160v-160H400v160ZM180-400h160v-160H180v160Zm440 0h160v-160H620v160ZM180-180h160v-160H180v160Zm440 0h160v-160H620v160Z\"/>\n",
              "  </svg>\n",
              "    </button>\n",
              "\n",
              "  <style>\n",
              "    .colab-df-container {\n",
              "      display:flex;\n",
              "      gap: 12px;\n",
              "    }\n",
              "\n",
              "    .colab-df-convert {\n",
              "      background-color: #E8F0FE;\n",
              "      border: none;\n",
              "      border-radius: 50%;\n",
              "      cursor: pointer;\n",
              "      display: none;\n",
              "      fill: #1967D2;\n",
              "      height: 32px;\n",
              "      padding: 0 0 0 0;\n",
              "      width: 32px;\n",
              "    }\n",
              "\n",
              "    .colab-df-convert:hover {\n",
              "      background-color: #E2EBFA;\n",
              "      box-shadow: 0px 1px 2px rgba(60, 64, 67, 0.3), 0px 1px 3px 1px rgba(60, 64, 67, 0.15);\n",
              "      fill: #174EA6;\n",
              "    }\n",
              "\n",
              "    .colab-df-buttons div {\n",
              "      margin-bottom: 4px;\n",
              "    }\n",
              "\n",
              "    [theme=dark] .colab-df-convert {\n",
              "      background-color: #3B4455;\n",
              "      fill: #D2E3FC;\n",
              "    }\n",
              "\n",
              "    [theme=dark] .colab-df-convert:hover {\n",
              "      background-color: #434B5C;\n",
              "      box-shadow: 0px 1px 3px 1px rgba(0, 0, 0, 0.15);\n",
              "      filter: drop-shadow(0px 1px 2px rgba(0, 0, 0, 0.3));\n",
              "      fill: #FFFFFF;\n",
              "    }\n",
              "  </style>\n",
              "\n",
              "    <script>\n",
              "      const buttonEl =\n",
              "        document.querySelector('#df-67476900-8acb-4602-a6be-ef75e55d4349 button.colab-df-convert');\n",
              "      buttonEl.style.display =\n",
              "        google.colab.kernel.accessAllowed ? 'block' : 'none';\n",
              "\n",
              "      async function convertToInteractive(key) {\n",
              "        const element = document.querySelector('#df-67476900-8acb-4602-a6be-ef75e55d4349');\n",
              "        const dataTable =\n",
              "          await google.colab.kernel.invokeFunction('convertToInteractive',\n",
              "                                                    [key], {});\n",
              "        if (!dataTable) return;\n",
              "\n",
              "        const docLinkHtml = 'Like what you see? Visit the ' +\n",
              "          '<a target=\"_blank\" href=https://colab.research.google.com/notebooks/data_table.ipynb>data table notebook</a>'\n",
              "          + ' to learn more about interactive tables.';\n",
              "        element.innerHTML = '';\n",
              "        dataTable['output_type'] = 'display_data';\n",
              "        await google.colab.output.renderOutput(dataTable, element);\n",
              "        const docLink = document.createElement('div');\n",
              "        docLink.innerHTML = docLinkHtml;\n",
              "        element.appendChild(docLink);\n",
              "      }\n",
              "    </script>\n",
              "  </div>\n",
              "\n",
              "\n",
              "    <div id=\"df-a66784ff-e27f-42e3-a471-9bf0d81476d7\">\n",
              "      <button class=\"colab-df-quickchart\" onclick=\"quickchart('df-a66784ff-e27f-42e3-a471-9bf0d81476d7')\"\n",
              "                title=\"Suggest charts\"\n",
              "                style=\"display:none;\">\n",
              "\n",
              "<svg xmlns=\"http://www.w3.org/2000/svg\" height=\"24px\"viewBox=\"0 0 24 24\"\n",
              "     width=\"24px\">\n",
              "    <g>\n",
              "        <path d=\"M19 3H5c-1.1 0-2 .9-2 2v14c0 1.1.9 2 2 2h14c1.1 0 2-.9 2-2V5c0-1.1-.9-2-2-2zM9 17H7v-7h2v7zm4 0h-2V7h2v10zm4 0h-2v-4h2v4z\"/>\n",
              "    </g>\n",
              "</svg>\n",
              "      </button>\n",
              "\n",
              "<style>\n",
              "  .colab-df-quickchart {\n",
              "      --bg-color: #E8F0FE;\n",
              "      --fill-color: #1967D2;\n",
              "      --hover-bg-color: #E2EBFA;\n",
              "      --hover-fill-color: #174EA6;\n",
              "      --disabled-fill-color: #AAA;\n",
              "      --disabled-bg-color: #DDD;\n",
              "  }\n",
              "\n",
              "  [theme=dark] .colab-df-quickchart {\n",
              "      --bg-color: #3B4455;\n",
              "      --fill-color: #D2E3FC;\n",
              "      --hover-bg-color: #434B5C;\n",
              "      --hover-fill-color: #FFFFFF;\n",
              "      --disabled-bg-color: #3B4455;\n",
              "      --disabled-fill-color: #666;\n",
              "  }\n",
              "\n",
              "  .colab-df-quickchart {\n",
              "    background-color: var(--bg-color);\n",
              "    border: none;\n",
              "    border-radius: 50%;\n",
              "    cursor: pointer;\n",
              "    display: none;\n",
              "    fill: var(--fill-color);\n",
              "    height: 32px;\n",
              "    padding: 0;\n",
              "    width: 32px;\n",
              "  }\n",
              "\n",
              "  .colab-df-quickchart:hover {\n",
              "    background-color: var(--hover-bg-color);\n",
              "    box-shadow: 0 1px 2px rgba(60, 64, 67, 0.3), 0 1px 3px 1px rgba(60, 64, 67, 0.15);\n",
              "    fill: var(--button-hover-fill-color);\n",
              "  }\n",
              "\n",
              "  .colab-df-quickchart-complete:disabled,\n",
              "  .colab-df-quickchart-complete:disabled:hover {\n",
              "    background-color: var(--disabled-bg-color);\n",
              "    fill: var(--disabled-fill-color);\n",
              "    box-shadow: none;\n",
              "  }\n",
              "\n",
              "  .colab-df-spinner {\n",
              "    border: 2px solid var(--fill-color);\n",
              "    border-color: transparent;\n",
              "    border-bottom-color: var(--fill-color);\n",
              "    animation:\n",
              "      spin 1s steps(1) infinite;\n",
              "  }\n",
              "\n",
              "  @keyframes spin {\n",
              "    0% {\n",
              "      border-color: transparent;\n",
              "      border-bottom-color: var(--fill-color);\n",
              "      border-left-color: var(--fill-color);\n",
              "    }\n",
              "    20% {\n",
              "      border-color: transparent;\n",
              "      border-left-color: var(--fill-color);\n",
              "      border-top-color: var(--fill-color);\n",
              "    }\n",
              "    30% {\n",
              "      border-color: transparent;\n",
              "      border-left-color: var(--fill-color);\n",
              "      border-top-color: var(--fill-color);\n",
              "      border-right-color: var(--fill-color);\n",
              "    }\n",
              "    40% {\n",
              "      border-color: transparent;\n",
              "      border-right-color: var(--fill-color);\n",
              "      border-top-color: var(--fill-color);\n",
              "    }\n",
              "    60% {\n",
              "      border-color: transparent;\n",
              "      border-right-color: var(--fill-color);\n",
              "    }\n",
              "    80% {\n",
              "      border-color: transparent;\n",
              "      border-right-color: var(--fill-color);\n",
              "      border-bottom-color: var(--fill-color);\n",
              "    }\n",
              "    90% {\n",
              "      border-color: transparent;\n",
              "      border-bottom-color: var(--fill-color);\n",
              "    }\n",
              "  }\n",
              "</style>\n",
              "\n",
              "      <script>\n",
              "        async function quickchart(key) {\n",
              "          const quickchartButtonEl =\n",
              "            document.querySelector('#' + key + ' button');\n",
              "          quickchartButtonEl.disabled = true;  // To prevent multiple clicks.\n",
              "          quickchartButtonEl.classList.add('colab-df-spinner');\n",
              "          try {\n",
              "            const charts = await google.colab.kernel.invokeFunction(\n",
              "                'suggestCharts', [key], {});\n",
              "          } catch (error) {\n",
              "            console.error('Error during call to suggestCharts:', error);\n",
              "          }\n",
              "          quickchartButtonEl.classList.remove('colab-df-spinner');\n",
              "          quickchartButtonEl.classList.add('colab-df-quickchart-complete');\n",
              "        }\n",
              "        (() => {\n",
              "          let quickchartButtonEl =\n",
              "            document.querySelector('#df-a66784ff-e27f-42e3-a471-9bf0d81476d7 button');\n",
              "          quickchartButtonEl.style.display =\n",
              "            google.colab.kernel.accessAllowed ? 'block' : 'none';\n",
              "        })();\n",
              "      </script>\n",
              "    </div>\n",
              "\n",
              "    </div>\n",
              "  </div>\n"
            ],
            "application/vnd.google.colaboratory.intrinsic+json": {
              "type": "dataframe",
              "summary": "{\n  \"name\": \"df[['Consumer complaint narrative', 'cleaned_text']]\",\n  \"rows\": 5,\n  \"fields\": [\n    {\n      \"column\": \"Consumer complaint narrative\",\n      \"properties\": {\n        \"dtype\": \"string\",\n        \"num_unique_values\": 5,\n        \"samples\": [\n          \"Although I have never been late on a payment with XXXX  since they have become my loan provider they are reporting several late payments that I was told would be removed from my credit report by the department of education once I completed rehabilitation and my loan was sold to the next servicer which is now XXXX. Every time I call and inquire about their removal the representative says they can not removed late payments once they are reported. My last call to XXXX about this was today on XX/XX/XXXX at XXXX. Again I was told by the agent their is n't anything they can do. I asked for an email or address to the CEO or administrative offices that I could write a letter to and was told their was no email or address they could provide. I also told the representative today that I noticed that XXXX reports increase and decreases on my loan monthly to the credit bureaus that drastically affect my credit score. I asked the agent why are they reporting my loans like this especially considering they are in deferment. Her response was \\\" I do n't know '' ... well shoot I do n't know why either and we both ca n't not know why!!! At this point XXXX fraudulent and inaccurate reporting of my loans are causing me to experience difficulty acquiring credit. I would like for them to remove the loan and the late payments from my credit report completely. \\n\\nThere are also three ( 3 ) collection items being reported on my credit profile that do not belong to me. Two of the collections are listed by the same agency XXXX XXXX. The original creditor XXXX XXXX is reporting one account opened on XX/XX/XXXX and the second account opened on XX/XX/XXXX. How is it possible for me to have cable services at two different locations? These are not my accounts. The third collection with Afni I have no association with as well. It is not and was not my account. \\n\\n\\nAccording to the Fair Credit Reporting Act, Section 609 ( a ) ( 1 ) ( A ), you are required by federal law to verify -  through the physical verification of the original signed consumer contract - any and all accounts you post on a credit report. Otherwise, anyone paying for your reporting services could fax, mail or email in a fraudulent account. \\n\\nI demand to see Verifiable Proof ( an original Consumer Contract with my Signature on it ) you have on file of the accounts listed below. Your failure to positively verify these accounts has hurt my ability to obtain credit. Under the FCRA, unverified accounts must be removed and if you are unable to provide me a copy of verifiable proof, you must remove the accounts listed below. \\n\\nI demand the following accounts be verified or removed immediately. This is NOT a request for verification or proof of my mailing address, but a request for VALIDATION made pursuant to the above named Title and Section. I  respectfully request that these companies provide me with competent evidence that I have any legal obligation to pay them. I know these are not my accounts! \\n\\nPlease provide me with the following : What the money you say we owe is for? Explain and show us how you calculated what you say I owe? Provide me with copies of any papers that show I agreed to pay what you say I owe. Provide a verification or copy of any judgment if applicable ; Identify the original creditor ; Prove that the Statute of Limitations has not expired on this account. Show me that you are licensed to collect in my state. Provide us with your license numbers and Registered Agent. \\n\\nI am aware of my rights. As such, under Section 809 ( b )  collection efforts must cease until verification is obtained- including pursuing this debt through an authorized representative to collect on this alleged debt. \\n\\nXXXX XXXX {$130.00} XXXX XXXX {$130.00} XXXX XXXX {$63.00} Thank You, XXXX XXXX\",\n          \"The debt is with rise credit which I paid and when I try to dispute it with equifax they send me a notice stating that information has already changed. It hasn't its closed and killing my credit score\",\n          \"I went to check my credit report on XX/XX/2017 and found a couple items on my report that I was not aware of that was in collections from a company XXXX FUNDING LLC in the amount of XXXX and XXXX. I have sent in multiple letters to this company and even placed a police report with my local department. I also have made a complaint via this platform which should show on file of my previous letters sent to the company. They have not provided me with the proper information to verify this alleged debt. They continue to report negative only on my XXXX credit report. Included is the letter I have sent them along with a copy of the police report.\"\n        ],\n        \"semantic_type\": \"\",\n        \"description\": \"\"\n      }\n    },\n    {\n      \"column\": \"cleaned_text\",\n      \"properties\": {\n        \"dtype\": \"string\",\n        \"num_unique_values\": 5,\n        \"samples\": [\n          \"although never late payment xxxx since become loan provider reporting several late payments told would removed credit report department education completed rehabilitation loan sold next servicer xxxx every time call inquire removal representative says removed late payments reported last call xxxx today xxxxxxxx xxxx told agent nt anything asked email address ceo administrative offices could write letter told email address could provide also told representative today noticed xxxx reports increase decreases loan monthly credit bureaus drastically affect credit score asked agent reporting loans like especially considering deferment response nt know well shoot nt know either ca nt know point xxxx fraudulent inaccurate reporting loans causing experience difficulty acquiring credit would like remove loan late payments credit report completely also three collection items reported credit profile belong two collections listed agency xxxx xxxx original creditor xxxx xxxx reporting one account opened xxxxxxxx second account opened xxxxxxxx possible cable services two different locations accounts third collection afni association well account according fair credit reporting act section required federal law verify physical verification original signed consumer contract accounts post credit report otherwise anyone paying reporting services could fax mail email fraudulent account demand see verifiable proof original consumer contract signature file accounts listed failure positively verify accounts hurt ability obtain credit fcra unverified accounts must removed unable provide copy verifiable proof must remove accounts listed demand following accounts verified removed immediately request verification proof mailing address request validation made pursuant named title section respectfully request companies provide competent evidence legal obligation pay know accounts please provide following money say owe explain show us calculated say owe provide copies papers show agreed pay say owe provide verification copy judgment applicable identify original creditor prove statute limitations expired account show licensed collect state provide us license numbers registered agent aware rights section b collection efforts must cease verification obtained including pursuing debt authorized representative collect alleged debt xxxx xxxx xxxx xxxx xxxx xxxx thank xxxx xxxx\",\n          \"debt rise credit paid try dispute equifax send notice stating information already changed hasnt closed killing credit score\",\n          \"went check credit report xxxx found couple items report aware collections company xxxx funding llc amount xxxx xxxx sent multiple letters company even placed police report local department also made complaint via platform show file previous letters sent company provided proper information verify alleged debt continue report negative xxxx credit report included letter sent along copy police report\"\n        ],\n        \"semantic_type\": \"\",\n        \"description\": \"\"\n      }\n    }\n  ]\n}"
            }
          },
          "metadata": {},
          "execution_count": 2
        }
      ]
    },
    {
      "cell_type": "code",
      "source": [
        "from sklearn.model_selection import train_test_split\n",
        "from sklearn.feature_extraction.text import TfidfVectorizer\n",
        "\n",
        "# TF-IDF Vectorization\n",
        "tfidf = TfidfVectorizer(max_features=5000)\n",
        "X = tfidf.fit_transform(df['cleaned_text'])\n",
        "y = df['label']\n",
        "\n",
        "# Split into training and test data\n",
        "X_train, X_test, y_train, y_test = train_test_split(X, y, test_size=0.2, random_state=42)\n"
      ],
      "metadata": {
        "id": "8TTVx1QYSgJA"
      },
      "execution_count": 3,
      "outputs": []
    },
    {
      "cell_type": "code",
      "source": [
        "from sklearn.linear_model import LogisticRegression\n",
        "from sklearn.naive_bayes import MultinomialNB\n",
        "from sklearn.svm import LinearSVC\n",
        "from sklearn.metrics import accuracy_score\n",
        "\n",
        "models = {\n",
        "    \"Logistic Regression\": LogisticRegression(max_iter=1000),\n",
        "    \"Naive Bayes\": MultinomialNB(),\n",
        "    \"Linear SVM\": LinearSVC()\n",
        "}\n",
        "\n",
        "results = {}\n",
        "for name, model in models.items():\n",
        "    model.fit(X_train, y_train)\n",
        "    preds = model.predict(X_test)\n",
        "    acc = accuracy_score(y_test, preds)\n",
        "    results[name] = acc\n",
        "    print(f\"{name} Accuracy: {acc:.4f}\")\n",
        "\n",
        "# Visual comparison\n",
        "plt.bar(results.keys(), results.values(), color='lightgreen')\n",
        "plt.title(\"Model Accuracy Comparison\")\n",
        "plt.ylabel(\"Accuracy\")\n",
        "plt.show()\n"
      ],
      "metadata": {
        "colab": {
          "base_uri": "https://localhost:8080/",
          "height": 506
        },
        "id": "Xz4YD10LSoVM",
        "outputId": "39ad199f-9ebb-4a4f-d870-db42846b3d14"
      },
      "execution_count": 4,
      "outputs": [
        {
          "output_type": "stream",
          "name": "stdout",
          "text": [
            "Logistic Regression Accuracy: 0.7840\n",
            "Naive Bayes Accuracy: 0.6358\n",
            "Linear SVM Accuracy: 0.8210\n"
          ]
        },
        {
          "output_type": "display_data",
          "data": {
            "text/plain": [
              "<Figure size 640x480 with 1 Axes>"
            ],
            "image/png": "[encoded data removed]"
          },
          "metadata": {}
        }
      ]
    },
    {
      "cell_type": "code",
      "source": [
        "from sklearn.metrics import classification_report, confusion_matrix\n",
        "\n",
        "# Evaluate the best model - Let's say LinearSVM\n",
        "best_model = models[\"Linear SVM\"]\n",
        "predictions = best_model.predict(X_test)\n",
        "\n",
        "print(\"Classification Report:\\n\")\n",
        "print(classification_report(y_test, predictions))\n",
        "\n",
        "# Confusion Matrix\n",
        "conf_mat = confusion_matrix(y_test, predictions)\n",
        "sns.heatmap(conf_mat, annot=True, fmt='d', cmap='Blues')\n",
        "plt.title(\"Confusion Matrix\")\n",
        "plt.xlabel(\"Predicted\")\n",
        "plt.ylabel(\"Actual\")\n",
        "plt.show()\n"
      ],
      "metadata": {
        "colab": {
          "base_uri": "https://localhost:8080/",
          "height": 837
        },
        "id": "-6ZdP1tqSz3V",
        "outputId": "9e1dff91-63cf-492e-f732-dc2886258571"
      },
      "execution_count": 5,
      "outputs": [
        {
          "output_type": "stream",
          "name": "stdout",
          "text": [
            "Classification Report:\n",
            "\n",
            "              precision    recall  f1-score   support\n",
            "\n",
            "           0       0.82      0.94      0.88       102\n",
            "           1       0.83      0.60      0.70        48\n",
            "           2       0.00      0.00      0.00         3\n",
            "           3       0.80      0.89      0.84         9\n",
            "\n",
            "    accuracy                           0.82       162\n",
            "   macro avg       0.61      0.61      0.60       162\n",
            "weighted avg       0.81      0.82      0.81       162\n",
            "\n"
          ]
        },
        {
          "output_type": "stream",
          "name": "stderr",
          "text": [
            "/usr/local/lib/python3.11/dist-packages/sklearn/metrics/_classification.py:1565: UndefinedMetricWarning: Precision is ill-defined and being set to 0.0 in labels with no predicted samples. Use `zero_division` parameter to control this behavior.\n",
            "  _warn_prf(average, modifier, f\"{metric.capitalize()} is\", len(result))\n",
            "/usr/local/lib/python3.11/dist-packages/sklearn/metrics/_classification.py:1565: UndefinedMetricWarning: Precision is ill-defined and being set to 0.0 in labels with no predicted samples. Use `zero_division` parameter to control this behavior.\n",
            "  _warn_prf(average, modifier, f\"{metric.capitalize()} is\", len(result))\n",
            "/usr/local/lib/python3.11/dist-packages/sklearn/metrics/_classification.py:1565: UndefinedMetricWarning: Precision is ill-defined and being set to 0.0 in labels with no predicted samples. Use `zero_division` parameter to control this behavior.\n",
            "  _warn_prf(average, modifier, f\"{metric.capitalize()} is\", len(result))\n"
          ]
        },
        {
          "output_type": "display_data",
          "data": {
            "text/plain": [
              "<Figure size 640x480 with 2 Axes>"
            ],
            "image/png": "[encoded data removed]"
          },
          "metadata": {}
        }
      ]
    },
    {
      "cell_type": "code",
      "source": [
        "# Sample complaint\n",
        "sample = [\"There is a hard inquiry I didn’t authorize.\"]\n",
        "sample_clean = [preprocess(text) for text in sample]\n",
        "sample_vec = tfidf.transform(sample_clean)\n",
        "\n",
        "# Predict\n",
        "predicted_label = best_model.predict(sample_vec)[0]\n",
        "category_map = {0: \"Credit reporting\", 1: \"Debt collection\", 2: \"Consumer Loan\", 3: \"Mortgage\"}\n",
        "print(f\"Predicted Category: {category_map[predicted_label]}\")\n"
      ],
      "metadata": {
        "colab": {
          "base_uri": "https://localhost:8080/"
        },
        "id": "jjG4zZy7S4Lg",
        "outputId": "3eb1e5a0-abe6-4466-8eb5-7c671cbd0116"
      },
      "execution_count": 8,
      "outputs": [
        {
          "output_type": "stream",
          "name": "stdout",
          "text": [
            "Predicted Category: Credit reporting\n"
          ]
        }
      ]
    }
  ]
}